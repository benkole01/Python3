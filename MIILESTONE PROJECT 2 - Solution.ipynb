{
 "cells": [
  {
   "cell_type": "markdown",
   "metadata": {},
   "source": [
    "# Milestone Project 2- BLACK JACK GAME (Solution)\n",
    "In this milestone project you will be creating a Complete BlackJack Card Game in Python.\n",
    "\n",
    "Here are the requirements:\n",
    "\n",
    "* You need to create a simple text-based BlackJack game.\n",
    "* The game needs to have one player versus an automated dealer\n",
    "* The player can stand or hit\n",
    "* The player must be able to pick their betting amount\n",
    "* You need to keep track of the player's total money.\n",
    "* You need to alert the player of wins, losses, or busts, etc...\n",
    "\n",
    "And most importantly:\n",
    "*  \n",
    "##### You must use OOP and classes in some portion of game. You can not just use functions in your game. Use classes to help you defune the Deck and the Player's hand. There are many right ways to do this, so explore it well!\n",
    "\n",
    "Feel free to expand this game. Try including multiple players. Try adding in Double-Down and card splits! Remember to you are free to use any resources you want and as always:\n",
    "## HAVE FUN!"
   ]
  },
  {
   "cell_type": "code",
   "execution_count": null,
   "metadata": {},
   "outputs": [],
   "source": []
  },
  {
   "cell_type": "markdown",
   "metadata": {},
   "source": [
    "## The Game\n",
    "### Imports and Global Variables\n",
    "#### Step 1: Import the random module. This will be used to shuffle the deck prior to dealing. Then, declare variables to store suits, ranks and values. You can develop your own system, or copy ours below. Finally, declare a boolean value to be used to control boolean while loops. This is a common practice used to control the flow of the game."
   ]
  },
  {
   "cell_type": "markdown",
   "metadata": {},
   "source": [
    "suits = ('Hearts','Diamonds','Spades','Clubs')\n",
    "\n",
    "ranks = ('Two','Three','Four','Five','Six','Seven','Eight','Nine','Ten','Jack','Queen','King','Ace')\n",
    "\n",
    "values = {'Two':2,'Three':3,'Four':4,'Five':5,'Six':6,'Seven':7,'Eight':8,'Nine':9,'Ten':10,'Jack':10,'Queen':10,'King':10,'Ace':11}"
   ]
  },
  {
   "cell_type": "code",
   "execution_count": 1,
   "metadata": {},
   "outputs": [],
   "source": [
    "import random\n",
    "\n",
    "suits = ('Hearts','Diamonds','Spades','Clubs')\n",
    "ranks = ('Two','Three','Four','Five','Six','Seven','Eight','Nine','Ten','Jack','Queen','King','Ace')\n",
    "values = {'Two':2,'Three':3,'Four':4,'Five':5,'Six':6,'Seven':7,'Eight':8,'Nine':9,'Ten':10,'Jack':10,'Queen':10,'King':10,'Ace':11}\n",
    "\n",
    "playing = True"
   ]
  },
  {
   "cell_type": "markdown",
   "metadata": {},
   "source": [
    "### Class Definitions\n",
    "Consider making a Card class where each Card object has a suit and a rank, then a Deck class to hold all 52 objects, and can be shuffled, and finally a Hand class that holds those cards that have been dealt to each player from the Deck.\n",
    "#### Step 2: Create a Card Class\n",
    "A card object really only needs two attributes: suit and rank. You might add an attribute for \"value\"- we chose to \n",
    "handle value\n",
    "later when developing our Hand class.\n",
    "\n",
    "In addition to the Card's__init__ method, consider a__str__method that, when asked to print a card, returns a string in the form \"Two of Hearts\""
   ]
  },
  {
   "cell_type": "code",
   "execution_count": 2,
   "metadata": {},
   "outputs": [],
   "source": [
    "class Card():\n",
    "    def __init__(self,suit,rank):\n",
    "        self.suit = suit\n",
    "        self.rank = rank\n",
    "    def __str__(self):\n",
    "          return self.rank + \" of \"+ self.suit"
   ]
  },
  {
   "cell_type": "markdown",
   "metadata": {},
   "source": [
    "#### Step 3: Create a Deck Class\n",
    "Here we might store 52 card objects in a list that can be later shuffled. First, though, we need to instantiate  all 52 unique card objects and add them to our list. So long as the Card class definition appears in our code, we can build Card objects inside our Deck__init__ method. Consider iterating over sequences of suits and ranks to build out each card. This might appear inside a Deck class__init__method:"
   ]
  },
  {
   "cell_type": "raw",
   "metadata": {},
   "source": [
    "for suit in suits:\n",
    "    for rank in ranks:\n",
    "        "
   ]
  },
  {
   "cell_type": "markdown",
   "metadata": {},
   "source": [
    "In addition to an__init__ method we'll want to add methods to shuffle our deck, and to deal out cards during gameplay.\n",
    "\n",
    "OPTIONAL: We may never need to print the contents of the deck during gameplay, but having the ability to see the cards inside it may help troubleshoot any problems that occur during development. With this in mind, consider adding a__str__ method to the class definition."
   ]
  },
  {
   "cell_type": "code",
   "execution_count": 3,
   "metadata": {},
   "outputs": [],
   "source": [
    "class Deck:\n",
    "    \n",
    "    def __init__(self):\n",
    "        self.deck = [] # start with an empty list\n",
    "        for suit in suits:\n",
    "            for rank in ranks:\n",
    "                self.deck.append(Card(suit,rank))\n",
    "            \n",
    "    def __str__(self):\n",
    "        deck_comp = \"\"\n",
    "        for card in self.deck:\n",
    "            deck_comp += \"\\n\" + card.__str__()\n",
    "        return \"The deck has: \"+deck_comp\n",
    "            \n",
    "    \n",
    "    def shuffle(self):\n",
    "        random.shuffle(self.deck)\n",
    "        \n",
    "    def deal(self):\n",
    "        single_card = self.deck.pop()\n",
    "        return single_card"
   ]
  },
  {
   "cell_type": "markdown",
   "metadata": {},
   "source": [
    "TESTING: Just to see that everything works so far, let's see what our Deck looks like!"
   ]
  },
  {
   "cell_type": "code",
   "execution_count": 4,
   "metadata": {},
   "outputs": [
    {
     "name": "stdout",
     "output_type": "stream",
     "text": [
      "The deck has: \n",
      "Jack of Spades\n",
      "Six of Clubs\n",
      "King of Clubs\n",
      "Queen of Hearts\n",
      "Eight of Spades\n",
      "Three of Spades\n",
      "Seven of Diamonds\n",
      "Ten of Spades\n",
      "Five of Spades\n",
      "Two of Hearts\n",
      "King of Diamonds\n",
      "Five of Diamonds\n",
      "Six of Spades\n",
      "Seven of Clubs\n",
      "Ace of Diamonds\n",
      "Ace of Spades\n",
      "Ten of Diamonds\n",
      "Ten of Hearts\n",
      "Queen of Diamonds\n",
      "Four of Spades\n",
      "Seven of Spades\n",
      "Six of Diamonds\n",
      "Queen of Clubs\n",
      "Ace of Clubs\n",
      "Jack of Diamonds\n",
      "Five of Hearts\n",
      "Six of Hearts\n",
      "Nine of Clubs\n",
      "Four of Clubs\n",
      "Queen of Spades\n",
      "Seven of Hearts\n",
      "King of Hearts\n",
      "Four of Hearts\n",
      "Three of Hearts\n",
      "Jack of Clubs\n",
      "Eight of Diamonds\n",
      "Five of Clubs\n",
      "Nine of Diamonds\n",
      "Nine of Hearts\n",
      "Ace of Hearts\n",
      "Nine of Spades\n",
      "King of Spades\n",
      "Two of Spades\n",
      "Two of Diamonds\n",
      "Three of Clubs\n",
      "Eight of Clubs\n",
      "Two of Clubs\n",
      "Jack of Hearts\n",
      "Eight of Hearts\n",
      "Four of Diamonds\n",
      "Ten of Clubs\n",
      "Three of Diamonds\n"
     ]
    }
   ],
   "source": [
    "test_deck = Deck()\n",
    "test_deck.shuffle()\n",
    "print(test_deck)"
   ]
  },
  {
   "cell_type": "code",
   "execution_count": null,
   "metadata": {},
   "outputs": [],
   "source": [
    " "
   ]
  },
  {
   "cell_type": "markdown",
   "metadata": {},
   "source": [
    "#### Step 4: Create a Hand Class\n",
    "In addition to holding Cards objects dealt from the Deck, the Hand class may be used to calculate the value of those cards using the values dictionary defined above. It may also need to adjust for the value of Aces when appropriate."
   ]
  },
  {
   "cell_type": "code",
   "execution_count": 5,
   "metadata": {},
   "outputs": [],
   "source": [
    "class Hand:\n",
    "    def __init__(self):\n",
    "        self.cards = [] # start with an empty list as we did in the Deck class\n",
    "        self.value = 0 # start with zero value\n",
    "        self.aces = 0 # add an attribute to keep track of aces\n",
    "        \n",
    "    def add_card(self,card):\n",
    "        # card passed in\n",
    "        # from Deck.deal() --> single Card(suit,rank)\n",
    "        self.cards.append(card)\n",
    "        self.value += values[card.rank]\n",
    "        \n",
    "        # track aces\n",
    "        if card.rank == \"Ace\":\n",
    "            self.aces += 1\n",
    "    \n",
    "    def adjust_for_ace(self):\n",
    "        \n",
    "        # IF TOTAL VALUE > 21 AND I STILL HAVE AN ACE\n",
    "        # THEN CHANGE MY ACE TO BE A 1 INSTEAD OF AN 11\n",
    "        while self.value > 21 and self.aces:\n",
    "            self.value -= 10\n",
    "            self.aces -= 1"
   ]
  },
  {
   "cell_type": "code",
   "execution_count": 6,
   "metadata": {},
   "outputs": [],
   "source": [
    "zero = 0\n",
    "one = 1\n",
    "two = 2"
   ]
  },
  {
   "cell_type": "code",
   "execution_count": 7,
   "metadata": {},
   "outputs": [],
   "source": [
    "if zero:\n",
    "    print(\"TRUE\")  "
   ]
  },
  {
   "cell_type": "code",
   "execution_count": 8,
   "metadata": {},
   "outputs": [
    {
     "name": "stdout",
     "output_type": "stream",
     "text": [
      "TRUE\n"
     ]
    }
   ],
   "source": [
    "if one:\n",
    "    print(\"TRUE\")"
   ]
  },
  {
   "cell_type": "code",
   "execution_count": 9,
   "metadata": {},
   "outputs": [
    {
     "name": "stdout",
     "output_type": "stream",
     "text": [
      "Four of Diamonds\n",
      "4\n"
     ]
    }
   ],
   "source": [
    "test_deck = Deck()\n",
    "test_deck.shuffle()\n",
    "\n",
    "# PLAYER\n",
    "test_player = Hand()\n",
    "# Deal 1 card from the deck CARD(suit,rank)\n",
    "pulled_card = test_deck.deal()\n",
    "print(pulled_card) \n",
    "test_player.add_card(pulled_card)\n",
    "print(test_player.value)"
   ]
  },
  {
   "cell_type": "code",
   "execution_count": 10,
   "metadata": {},
   "outputs": [],
   "source": [
    "test_player.add_card(test_deck.deal())"
   ]
  },
  {
   "cell_type": "code",
   "execution_count": 11,
   "metadata": {},
   "outputs": [
    {
     "data": {
      "text/plain": [
       "9"
      ]
     },
     "execution_count": 11,
     "metadata": {},
     "output_type": "execute_result"
    }
   ],
   "source": [
    "test_player.value"
   ]
  },
  {
   "cell_type": "markdown",
   "metadata": {},
   "source": []
  },
  {
   "cell_type": "markdown",
   "metadata": {},
   "source": [
    "#### Step 5: Create a Chips Class\n",
    "In addition to decks of cards and hands, we need to keep track of a Player's starting chips, bets, and ongoing winnings. This could be done using global variables, but in the spirit of object oriented programming, let's make Chips class instead!"
   ]
  },
  {
   "cell_type": "code",
   "execution_count": 12,
   "metadata": {},
   "outputs": [],
   "source": [
    "class Chips:\n",
    "    \n",
    "    def __init__(self,total = 100):\n",
    "        self.total = 100 # This can set to a default value or supplied by a user input\n",
    "        self.bet = 0\n",
    "        \n",
    "    def win_bet(self):\n",
    "        self.total += self.bet\n",
    "    \n",
    "    def lose_bet(self):\n",
    "        self.total -= self.bet"
   ]
  },
  {
   "cell_type": "markdown",
   "metadata": {},
   "source": [
    "### Function Definitions\n",
    "A lot of steps are going to be repetitive. That's where fuctions come in! The following are guidelines - add or remove functions as needed in your own program.\n",
    "#### Step 6: Write a function for taking bets\n",
    "Since we're asking the user for an integer value, this would be a good place to use try/except. Remember to check that a Player's bet can be covered by their available chips."
   ]
  },
  {
   "cell_type": "code",
   "execution_count": 13,
   "metadata": {},
   "outputs": [],
   "source": [
    "def take_bet(chips):\n",
    "    \n",
    "    while True:\n",
    "        \n",
    "        try:\n",
    "            chips.bet = int(input(\"How many chips would you like to bet? \"))\n",
    "        except:\n",
    "            print(\"Sorry please provide an integer\")\n",
    "        else:\n",
    "            if chips.bet > chips.total:\n",
    "                print(\"Sorry, you do not have enough chips! You have: {}\".format(chips.total))\n",
    "            else:\n",
    "                break"
   ]
  },
  {
   "cell_type": "markdown",
   "metadata": {},
   "source": [
    "#### Step 7: Write a function for taking hits\n",
    "Either player can take hits until they bust. This function will be called during gameplay anytime a Player requests a hit, or a Dealer's hand is less than 17. It should take in Deck and Hand objects as arguments, and deal one card off the deck and add it to the Hand. You may want it to check for aces in the event that a player's hand exceeds 21."
   ]
  },
  {
   "cell_type": "code",
   "execution_count": 14,
   "metadata": {},
   "outputs": [],
   "source": [
    "def hit(deck,hand):\n",
    "    \n",
    "    single_card = deck.deal()\n",
    "    hand.add_card(single_card)\n",
    "    hand.adjust_for_ace()"
   ]
  },
  {
   "cell_type": "markdown",
   "metadata": {},
   "source": [
    "#### Step 8: Write a function prompting the Player to Hit or Stand\n",
    "This function should accept the deck and the player's hand as arguments, and assign playing as a global variable. \n",
    "If the player Hits, employ the hit() function above. \n",
    "\n",
    "If the Player Stands, set the playing variable False - this will control the behavior of a while loop later on in our code."
   ]
  },
  {
   "cell_type": "code",
   "execution_count": 15,
   "metadata": {},
   "outputs": [],
   "source": [
    "def hit_or_stand(deck,hand):\n",
    "    global playing # to control an upcoming while loop\n",
    "    \n",
    "    while True:\n",
    "        x = input(\"Hit or Stand? Enter h or s \")# HIT #hh # stand\n",
    "        \n",
    "        if x[0].lower() == \"h\":\n",
    "            hit(deck,hand)\n",
    "            \n",
    "        elif x[0].lower() == \"s\":\n",
    "            print(\"Player Stands Dealer's Turn\")\n",
    "            playing = False\n",
    "            \n",
    "        else:\n",
    "            print(\"Sorry, I did not understand that. Please enter h or s only!\")\n",
    "            continue\n",
    "            \n",
    "        break"
   ]
  },
  {
   "cell_type": "markdown",
   "metadata": {},
   "source": [
    "#### Step 9: Write functions to display cards\n",
    "When the game starts, and after each time Player  takes a card, the dealer's first card is hidden and all of Player's cards are visible. At the end of the had all cards ate shown, and you may want to show each hand's total value. Write a function for each of these scenarios. "
   ]
  },
  {
   "cell_type": "code",
   "execution_count": 16,
   "metadata": {},
   "outputs": [],
   "source": [
    "def show_some(player,dealer):\n",
    "    \n",
    "    print(\"DEALER'S HAND: \")\n",
    "    print(\"one card hidden!\")\n",
    "    print(dealer.cards[1])\n",
    "    print(\"\\n\")\n",
    "    print(\"PLAYER's HAND: \")\n",
    "    for card in player.cards:\n",
    "        print(card)\n",
    "\n",
    "def show_all(player,dealer):\n",
    "    \n",
    "    print(\"DEALER'S HAND: \")\n",
    "    for card in dealer.cards:\n",
    "        print(card)\n",
    "    print(\"\\n\")\n",
    "    print(\"PLAYER'S HAND: \")\n",
    "    for card in player.cards:\n",
    "        print(card)\n",
    "    "
   ]
  },
  {
   "cell_type": "markdown",
   "metadata": {},
   "source": [
    "#### Step 10: Write functions to handle end of game scenarios\n",
    "Remember to pass player's hand, dealer's hand and chips as needed."
   ]
  },
  {
   "cell_type": "code",
   "execution_count": 17,
   "metadata": {},
   "outputs": [],
   "source": [
    "def player_busts(player,dealer,chips):\n",
    "    print(\"BUST PLAYER!\")\n",
    "    chips.lose_bet()\n",
    "\n",
    "def player_wins(player,dealer,chips):\n",
    "    print(\"PLAYER WINS!\")\n",
    "    chips.win_bet()\n",
    "\n",
    "def dealer_busts(player,dealer,chips):\n",
    "    print(\"PLAYER WINS! DEALER BUSTED!\")\n",
    "    chips.win_bet()\n",
    "\n",
    "def dealer_wins(player,dealer,chips):\n",
    "    print(\"DEALER WINS!\")\n",
    "    chips.lose_bet()\n",
    "\n",
    "def push(player,dealer):\n",
    "    print(\"Dealer and player tie! PUSH\")"
   ]
  },
  {
   "cell_type": "markdown",
   "metadata": {},
   "source": [
    "### And now on the game!!"
   ]
  },
  {
   "cell_type": "code",
   "execution_count": null,
   "metadata": {},
   "outputs": [
    {
     "name": "stdout",
     "output_type": "stream",
     "text": [
      "WELCOME TO BLACKJACK!\n",
      "How many chips would you like to bet? 8\n",
      "DEALER'S HAND: \n",
      "one card hidden!\n",
      "Eight of Hearts\n",
      "\n",
      "\n",
      "PLAYER's HAND: \n",
      "Seven of Diamonds\n",
      "Jack of Diamonds\n",
      "Hit or Stand? Enter h or s h\n",
      "DEALER'S HAND: \n",
      "one card hidden!\n",
      "Eight of Hearts\n",
      "\n",
      "\n",
      "PLAYER's HAND: \n",
      "Seven of Diamonds\n",
      "Jack of Diamonds\n",
      "Six of Hearts\n",
      "BUST PLAYER!\n",
      "\n",
      " Player total chips are at: 92\n",
      "Would you like to play another hand? y/nn\n",
      "WELCOME TO BLACKJACK!\n",
      "How many chips would you like to bet? 6\n",
      "DEALER'S HAND: \n",
      "one card hidden!\n",
      "Eight of Spades\n",
      "\n",
      "\n",
      "PLAYER's HAND: \n",
      "Six of Hearts\n",
      "Ten of Clubs\n",
      "Hit or Stand? Enter h or s h\n",
      "DEALER'S HAND: \n",
      "one card hidden!\n",
      "Eight of Spades\n",
      "\n",
      "\n",
      "PLAYER's HAND: \n",
      "Six of Hearts\n",
      "Ten of Clubs\n",
      "Nine of Spades\n",
      "BUST PLAYER!\n",
      "\n",
      " Player total chips are at: 94\n",
      "Would you like to play another hand? y/ny\n",
      "WELCOME TO BLACKJACK!\n"
     ]
    }
   ],
   "source": [
    "while True:\n",
    "    # Print an opening statement\n",
    "    \n",
    "    print(\"WELCOME TO BLACKJACK!\")\n",
    "    # Create & shuffle the deck, deal two cards to each player\n",
    "    deck = Deck()\n",
    "    deck.shuffle()\n",
    "    \n",
    "    player_hand = Hand()\n",
    "    player_hand.add_card(deck.deal())\n",
    "    player_hand.add_card(deck.deal())\n",
    "    \n",
    "    dealer_hand = Hand()\n",
    "    dealer_hand.add_card(deck.deal())\n",
    "    dealer_hand.add_card(deck.deal())\n",
    "    \n",
    "    \n",
    "    # Set up the Player's chips \n",
    "    player_chips = Chips()\n",
    "    \n",
    "    # Prompt the Player for their bet\n",
    "    take_bet(player_chips)\n",
    "    \n",
    "    # Show cards (but keep one dealer card hidden)\n",
    "    show_some(player_hand,dealer_hand)\n",
    "    \n",
    "    while playing: # recall this variable from our hit_or_stand function\n",
    "        # Prompt for Player to Hit or Stand\n",
    "        hit_or_stand(deck,player_hand)\n",
    "        \n",
    "        # Show cards (but keep one dealer card  hidden)\n",
    "        show_some(player_hand,dealer_hand)\n",
    "        \n",
    "        # If player's hand exceeds 21, run player_busts() and break out of the loop\n",
    "        if player_hand.value > 21:\n",
    "            player_busts(player_hand,dealer_hand,player_chips)\n",
    "        \n",
    "        break\n",
    "            \n",
    "    # If Player has not busted, play Dealer's hand until Dealer reaches 17\n",
    "    if player_hand.value <= 21:\n",
    "        \n",
    "        while dealer_hand.value < player_hand.value:\n",
    "            hit(deck,dealer_hand)\n",
    "    \n",
    "            \n",
    "        # Show all cards\n",
    "        show_all(player_hand,dealer_hand)\n",
    "        \n",
    "        # Run different winning scenarios\n",
    "        if dealer_hand.value > 21:\n",
    "            dealer_busts(player_hand,dealer_hand,player_chips)\n",
    "        elif dealer_hand.value > player_hand.value:\n",
    "            dealer_wins(player_hand,dealer_hand,player_chips)\n",
    "        elif dealer_hand.value < player_hand.value:\n",
    "            player_wins(player_hand,dealer_hand,player_chips)\n",
    "        else:\n",
    "            push(player_hand,dealer_hand)\n",
    "        \n",
    "    # Inform Player of their chips total\n",
    "    print(\"\\n Player total chips are at: {}\".format(player_chips.total))\n",
    "    \n",
    "    # Ask to play again\n",
    "    new_game = (input(\"Would you like to play another hand? y/n\"))\n",
    "    \n",
    "    if new_game[0].lower() == \"y\":\n",
    "        playing = True\n",
    "    elif new_game[0].lower() == \"n\":\n",
    "        continue\n",
    "    else:\n",
    "        print(\"Thank you for playing!\")\n",
    "        break"
   ]
  },
  {
   "cell_type": "markdown",
   "metadata": {},
   "source": [
    "And that's it! Remember, these steps may differ significantly  from your own solution. That's OK! Keep working on different sections of your program until you get the desired results. It takes a lot of time and patience! ALL THE BEST!!!"
   ]
  },
  {
   "cell_type": "code",
   "execution_count": null,
   "metadata": {},
   "outputs": [],
   "source": [
    "while True:\n",
    "    # Print an opening statement\n",
    "    \n",
    "    print(\"WELCOME TO BLACKJACK!\")\n",
    "    # Create & shuffle the deck, deal two cards to each player\n",
    "    deck = Deck()\n",
    "    deck.shuffle()\n",
    "    \n",
    "    player_hand = Hand()\n",
    "    player_hand.add_card(deck.deal())\n",
    "    player_hand.add_card(deck.deal())\n",
    "    \n",
    "    dealer_hand = Hand()\n",
    "    dealer_hand.add_card(deck.deal())\n",
    "    dealer_hand.add_card(deck.deal())\n",
    "    \n",
    "    \n",
    "    # Set up the Player's chips \n",
    "    player_chips = Chips()\n",
    "    \n",
    "    # Prompt the Player for their bet\n",
    "    take_bet(player_chips)\n",
    "    \n",
    "    # Show cards (but keep one dealer card hidden)\n",
    "    show_some(player_hand,dealer_hand)\n",
    "    \n",
    "    while playing: # recall this variable from our hit_or_stand function\n",
    "        # Prompt for Player to Hit or Stand\n",
    "        hit_or_stand(deck,player_hand)\n",
    "        \n",
    "        # Show cards (but keep one dealer card  hidden)\n",
    "        show_some(player_hand,dealer_hand)\n",
    "        \n",
    "        # If player's hand exceeds 21, run player_busts() and break out of the loop\n",
    "        if player_hand.value > 21:\n",
    "            player_busts(player_hand,dealer_hand,player_chips)\n",
    "        \n",
    "        break\n",
    "            \n",
    "    # If Player has not busted, play Dealer's hand until Dealer reaches 17\n",
    "    if player_hand.value <= 21:\n",
    "        \n",
    "        while dealer_hand.value < player_hand.value:\n",
    "            hit(deck,dealer_hand)\n",
    "    \n",
    "            \n",
    "        # Show all cards\n",
    "        show_all(player_hand,dealer_hand)\n",
    "        \n",
    "        # Run different winning scenarios\n",
    "        if dealer_hand.value > 21:\n",
    "            dealer_busts(player_hand,dealer_hand,player_chips)\n",
    "        elif dealer_hand.value > player_hand.value:\n",
    "            dealer_wins(player_hand,dealer_hand,player_chips)\n",
    "        elif dealer_hand.value < player_hand.value:\n",
    "            player_wins(player_hand,dealer_hand,player_chips)\n",
    "        else:\n",
    "            push(player_hand,dealer_hand)\n",
    "        \n",
    "    # Inform Player of their chips total\n",
    "    print(\"\\n Player total chips are at: {}\".format(player_chips.total))\n",
    "    \n",
    "    # Ask to play again\n",
    "    new_game = (input(\"Would you like to play another hand? y/n\"))\n",
    "    \n",
    "    if new_game[0].lower() == \"y\":\n",
    "        playing = True\n",
    "    elif new_game[0].lower() == \"n\":\n",
    "        continue\n",
    "    else:\n",
    "        print(\"Thank you for playing!\")\n",
    "        break"
   ]
  },
  {
   "cell_type": "code",
   "execution_count": null,
   "metadata": {},
   "outputs": [],
   "source": []
  }
 ],
 "metadata": {
  "kernelspec": {
   "display_name": "Python 3",
   "language": "python",
   "name": "python3"
  },
  "language_info": {
   "codemirror_mode": {
    "name": "ipython",
    "version": 3
   },
   "file_extension": ".py",
   "mimetype": "text/x-python",
   "name": "python",
   "nbconvert_exporter": "python",
   "pygments_lexer": "ipython3",
   "version": "3.7.4"
  }
 },
 "nbformat": 4,
 "nbformat_minor": 2
}
