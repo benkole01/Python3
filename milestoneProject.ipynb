{
 "cells": [
  {
   "cell_type": "markdown",
   "metadata": {},
   "source": [
    "# Milestone project 1"
   ]
  },
  {
   "cell_type": "markdown",
   "metadata": {},
   "source": [
    "#### Step 1: write a function that can print out a board. Set up your board as a list,where each index 1-9 corresponds with a number on a number pad,so you get a 3 by 3 board representation."
   ]
  },
  {
   "cell_type": "code",
   "execution_count": 2,
   "metadata": {},
   "outputs": [],
   "source": [
    "from IPython.display import clear_output\n",
    "\n",
    "def display_board(board):\n",
    "    \n",
    "    clear_output()\n",
    "    print(board[7]+\"|\"+board[8]+\"|\"+board[9])\n",
    "    print(\"-----\")\n",
    "    print(board[4]+\"|\"+board[5]+\"|\"+board[6])\n",
    "    print(\"-----\")\n",
    "    print(board[1]+\"|\"+board[2]+\"|\"+board[3])  "
   ]
  },
  {
   "cell_type": "code",
   "execution_count": 3,
   "metadata": {},
   "outputs": [
    {
     "name": "stdout",
     "output_type": "stream",
     "text": [
      "7|8|9\n",
      "-----\n",
      "4|5|6\n",
      "-----\n",
      "1|2|3\n"
     ]
    }
   ],
   "source": [
    "display_board([\"0\",\"1\",\"2\",\"3\",\"4\",\"5\",\"6\",\"7\",\"8\",\"9\"])"
   ]
  },
  {
   "cell_type": "code",
   "execution_count": 4,
   "metadata": {},
   "outputs": [
    {
     "name": "stdout",
     "output_type": "stream",
     "text": [
      "X|O|X\n",
      "-----\n",
      "O|X|O\n",
      "-----\n",
      "X|O|X\n"
     ]
    }
   ],
   "source": [
    "# test step 1\n",
    "test_board = [\"#\",\"X\",\"O\",\"X\",\"O\",\"X\",\"O\",\"X\",\"O\",\"X\",\"#\",\"#\"]\n",
    "display_board(test_board)\n",
    "display_board(test_board)"
   ]
  },
  {
   "cell_type": "markdown",
   "metadata": {},
   "source": [
    "#### Step 2: Write a function that can take in a player input and assign their marker as \"X\" or \"O\". Think about using while loop to continuously ask until you get a correct answer."
   ]
  },
  {
   "cell_type": "code",
   "execution_count": 5,
   "metadata": {},
   "outputs": [],
   "source": [
    "def player_input():\n",
    "    \n",
    "    \"\"\"\n",
    "    OUTPUT = (player 1 marker,player 2 marker)\n",
    "    \"\"\"\n",
    "    \n",
    "    marker = \"\"\n",
    "    \n",
    "    while marker != \"X\" and marker !=\"O\":\n",
    "        marker = input(\"Player 1, Choose X or O: \").upper()\n",
    "        if marker == \"X\":\n",
    "            return (\"X\",\"O\")\n",
    "        else:\n",
    "            return (\"O\",\"X\")"
   ]
  },
  {
   "cell_type": "code",
   "execution_count": null,
   "metadata": {},
   "outputs": [],
   "source": [
    "# test step 2\n",
    "player1_marker,player2_marker = player_input()"
   ]
  },
  {
   "cell_type": "code",
   "execution_count": null,
   "metadata": {},
   "outputs": [],
   "source": [
    "player1_marker"
   ]
  },
  {
   "cell_type": "code",
   "execution_count": null,
   "metadata": {},
   "outputs": [],
   "source": [
    "player2_marker"
   ]
  },
  {
   "cell_type": "markdown",
   "metadata": {},
   "source": [
    "#### Step 3:Write a function that takes in the board list object, a marker(\"O\",\"X\"),and a desired position(number 1-9) and assigns it to the board."
   ]
  },
  {
   "cell_type": "code",
   "execution_count": null,
   "metadata": {},
   "outputs": [],
   "source": [
    "def place_marker(board,marker,position):\n",
    "    \n",
    "    board[position] = marker"
   ]
  },
  {
   "cell_type": "code",
   "execution_count": null,
   "metadata": {},
   "outputs": [],
   "source": [
    "test_board"
   ]
  },
  {
   "cell_type": "code",
   "execution_count": null,
   "metadata": {},
   "outputs": [],
   "source": [
    "#test step 3\n",
    "place_marker(test_board,\"$\",8)\n",
    "display_board(test_board)"
   ]
  },
  {
   "cell_type": "markdown",
   "metadata": {},
   "source": [
    "#### Step 4: write a function that takes in a board and a mark(X or O) and then checks to see if that mark has won"
   ]
  },
  {
   "cell_type": "code",
   "execution_count": null,
   "metadata": {},
   "outputs": [],
   "source": [
    "def win_check(board,mark):\n",
    "    \n",
    "    #WIN TIC TAC TOE?\n",
    "    return((board[7]==mark and board[8]==mark and board[9]==mark) or # across the top\n",
    "    (board[4]==mark and board[5]==mark and board[6]==mark) or # across the middle\n",
    "    (board[1]==mark and board[2]==mark and board[3]==mark) or # across the bottom\n",
    "    (board[7]==mark and board[4]==mark and board[1]==mark) or # down the middle\n",
    "    (board[8]==mark and board[5]==mark and board[2]==mark) or # down the middle \n",
    "    (board[9]==mark and board[6]==mark and board[3]==mark) or #down the right side\n",
    "    (board[7]==mark and board[5]==mark and board[3]==mark) or # diagonal\n",
    "    (board[9]==mark and board[5]==mark and board[1]==mark)) #diagonal"
   ]
  },
  {
   "cell_type": "code",
   "execution_count": null,
   "metadata": {},
   "outputs": [],
   "source": [
    "# test step 4\n",
    "display_board(test_board)\n",
    "win_check(test_board,\"X\")"
   ]
  },
  {
   "cell_type": "markdown",
   "metadata": {},
   "source": [
    "#### Step 5: write a function that uses the random module to randomly decide which player goes first. You may want to lookup random.randint() Return a string of which player went first"
   ]
  },
  {
   "cell_type": "code",
   "execution_count": null,
   "metadata": {},
   "outputs": [],
   "source": [
    "import random\n",
    "\n",
    "def choose_first():\n",
    "    \n",
    "    flip = random.randint(0,1)\n",
    "    \n",
    "    if flip == 0:\n",
    "        return \"Player 1\"\n",
    "    else:\n",
    "        return \"Player 2\""
   ]
  },
  {
   "cell_type": "markdown",
   "metadata": {},
   "source": [
    "#### Step 6: Write a function that returns a boolean indicating whether a space in the board is freely available "
   ]
  },
  {
   "cell_type": "code",
   "execution_count": null,
   "metadata": {},
   "outputs": [],
   "source": [
    "def space_check(board,position):\n",
    "    \n",
    "    return board[position] == \" \""
   ]
  },
  {
   "cell_type": "markdown",
   "metadata": {},
   "source": [
    "#### Step 7: Write a function that checks if the board is full and returns a boolean value. True if full,False otherwise."
   ]
  },
  {
   "cell_type": "code",
   "execution_count": null,
   "metadata": {},
   "outputs": [],
   "source": [
    "def full_board_check(board):\n",
    "    \n",
    "    for i in range(1,10):\n",
    "        if space_check(board,i):\n",
    "            return False\n",
    "        #IF BOARD IS FULL RETURN TRUE\n",
    "        \n",
    "    return True"
   ]
  },
  {
   "cell_type": "markdown",
   "metadata": {},
   "source": [
    "#### Step 8: Write a function that asks for a player's next position(as a number 1 to 9) and then uses the function from step 6 to check if it's a free position. If it's then return the position for later use."
   ]
  },
  {
   "cell_type": "code",
   "execution_count": null,
   "metadata": {},
   "outputs": [],
   "source": [
    "def player_choice(board):\n",
    "    position = 0\n",
    "    \n",
    "    while position not in [1,2,3,4,5,6,7,8,9] or not space_check(board,position):\n",
    "        position = int(input(\"Choose a position: 1-9\"))\n",
    "        \n",
    "        return position"
   ]
  },
  {
   "cell_type": "markdown",
   "metadata": {},
   "source": [
    "#### Step 9: Write a function that asks the player if they want to play again and return a boolean TRUE if they do want to play again."
   ]
  },
  {
   "cell_type": "code",
   "execution_count": null,
   "metadata": {},
   "outputs": [],
   "source": [
    "def replay():\n",
    "    \n",
    "    choice = input(\"Play again? Enter Yes or No\")\n",
    "    return choice == \"Yes\""
   ]
  },
  {
   "cell_type": "markdown",
   "metadata": {},
   "source": [
    "#### Step 10: \"Hardest\" part. Use while loops and the functions you have made to run the game!"
   ]
  },
  {
   "cell_type": "code",
   "execution_count": null,
   "metadata": {},
   "outputs": [],
   "source": [
    "print(\"Welcome to Tic Tac Toe!\")\n",
    "#while True:\n",
    "    #set up the game here\n",
    "    #pass\n",
    "    \n",
    "    #while game on:\n",
    "        #Player 1 turn\n",
    "        \n",
    "        \n",
    "        #player 2 turn\n",
    "        \n",
    "           #pass\n",
    "            \n",
    "    #if not replay():\n",
    "        #break"
   ]
  },
  {
   "cell_type": "code",
   "execution_count": null,
   "metadata": {},
   "outputs": [],
   "source": [
    "#WHILE LOOP TO KEEP RUNNING THE GAME\n",
    "\n",
    "print(\"WELCOME TO TIC TAC TOE\")\n",
    "while True:\n",
    "    \n",
    "    #PLAY THE GAME HERE\n",
    "    \n",
    "    ##SET EVERYTHING UP(BOARD, WHOSE FIRST, MARKERS X,O)\n",
    "    the_board = [\" \"]*10\n",
    "    player1_marker,player2_marker = player_input()\n",
    "    \n",
    "    turn = choose_first()\n",
    "    print(turn + \" will go first\")\n",
    "    \n",
    "    play_game = input(\"Ready to play? y or n\")\n",
    "    \n",
    "    if play_game == \"y\":\n",
    "        game_on = True\n",
    "    else:\n",
    "        game_on = False\n",
    "        \n",
    "    ##GAME PLAY\n",
    "    \n",
    "    while game_on:\n",
    "        \n",
    "        if turn == \"Player 1\":\n",
    "            \n",
    "            #show the board\n",
    "            display_board(the_board)\n",
    "            #choose a position\n",
    "            position = player_choice(the_board)\n",
    "            #place a marker on the position\n",
    "            place_marker(the_board,player1_marker,position)\n",
    "            #check if they won\n",
    "            if win_check(the_board,player1_marker):\n",
    "                display_board(the_board)\n",
    "                print(\"PLAYER 1 HAS WON!!!\")\n",
    "                game_on = False\n",
    "            else:\n",
    "                if full_board_check(the_board):\n",
    "                    display_board(the_board)\n",
    "                    print(\"TIE GAME!!!\")\n",
    "                    game_on = False\n",
    "                else:\n",
    "                    turn = \"Player 2\"\n",
    "            #or check if there is a tie\n",
    "            \n",
    "            #no tie no win? then next player's turn\n",
    "            \n",
    "            \n",
    "    \n",
    "        ###PLAYER ONE TURN\n",
    "    \n",
    "        else:\n",
    "            #show the board\n",
    "            display_board(the_board)\n",
    "            #choose a position\n",
    "            position = player_choice(the_board)\n",
    "            #place a marker on the position\n",
    "            place_marker(the_board,player2_marker,position)\n",
    "            #check if they won\n",
    "            if win_check(the_board,player2_marker):\n",
    "                display_board(the_board)\n",
    "                print(\"PLAYER 2 HAS WON!!!\")\n",
    "                game_on = False\n",
    "            else:\n",
    "                if full_board_check(the_board):\n",
    "                    display_board(the_board)\n",
    "                    print(\"TIE GAME!!!\")\n",
    "                    game_on = False\n",
    "                else:\n",
    "                    turn = \"Player 1\"\n",
    "            \n",
    "            \n",
    "            \n",
    "        ###PLAYER TWO TURN\n",
    "\n",
    "\n",
    "    \n",
    "    \n",
    "    \n",
    "    if not replay():\n",
    "        break \n",
    "    #BREAK OUT OF THE WHILE LOOP ON replay()"
   ]
  },
  {
   "cell_type": "code",
   "execution_count": null,
   "metadata": {},
   "outputs": [],
   "source": []
  }
 ],
 "metadata": {
  "kernelspec": {
   "display_name": "Python 3",
   "language": "python",
   "name": "python3"
  },
  "language_info": {
   "codemirror_mode": {
    "name": "ipython",
    "version": 3
   },
   "file_extension": ".py",
   "mimetype": "text/x-python",
   "name": "python",
   "nbconvert_exporter": "python",
   "pygments_lexer": "ipython3",
   "version": "3.7.4"
  }
 },
 "nbformat": 4,
 "nbformat_minor": 2
}
