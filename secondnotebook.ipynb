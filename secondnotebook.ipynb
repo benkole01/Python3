{
 "cells": [
  {
   "cell_type": "markdown",
   "metadata": {},
   "source": [
    "# Python statements\n",
    "What makes python statements unique from other languages is the colon(:) and the white space(indentation)."
   ]
  },
  {
   "cell_type": "code",
   "execution_count": 8,
   "metadata": {},
   "outputs": [
    {
     "name": "stdout",
     "output_type": "stream",
     "text": [
      "True\n"
     ]
    }
   ],
   "source": [
    "if True:\n",
    "    print(\"True\")   "
   ]
  },
  {
   "cell_type": "code",
   "execution_count": 19,
   "metadata": {},
   "outputs": [],
   "source": [
    "age = 40"
   ]
  },
  {
   "cell_type": "code",
   "execution_count": 32,
   "metadata": {},
   "outputs": [
    {
     "name": "stdout",
     "output_type": "stream",
     "text": [
      "you are old\n"
     ]
    }
   ],
   "source": [
    "if age <= 35:\n",
    "    print(\"You are a youth\")\n",
    "\n",
    "else:\n",
    "    print(\"you are old\")\n",
    "        "
   ]
  },
  {
   "cell_type": "code",
   "execution_count": 33,
   "metadata": {},
   "outputs": [
    {
     "name": "stdout",
     "output_type": "stream",
     "text": [
      "Sorry! The school you chose is not found in our database.\n"
     ]
    }
   ],
   "source": [
    "# the if/elif/else statements should be ligned up in the same indentation otherwise you will get a syntax error\n",
    "place_of_study = \"Kenya\"\n",
    "if place_of_study == \"US\":\n",
    "    print(\"Studying in the US can be a good experience.\")\n",
    "elif place_of_study == \"UK\":\n",
    "    print(\"UK admits many international students every year.\")\n",
    "elif place_of_study == \"Canada\":\n",
    "    print(\"Canada has some of the top tier schools.\")\n",
    "else:\n",
    "    print(\"Sorry! The school you chose is not found in our database.\")"
   ]
  },
  {
   "cell_type": "markdown",
   "metadata": {},
   "source": [
    "## For Loops\n",
    "iteration - calling an object over and over again"
   ]
  },
  {
   "cell_type": "code",
   "execution_count": 46,
   "metadata": {},
   "outputs": [
    {
     "name": "stdout",
     "output_type": "stream",
     "text": [
      "B\n",
      "e\n",
      "n\n"
     ]
    }
   ],
   "source": [
    "name = \"Ben\"\n",
    "for i in name:\n",
    "    print(i)\n",
    "#prints every letter in Ben \n",
    "# i can be changed to any variable name of your choice"
   ]
  },
  {
   "cell_type": "code",
   "execution_count": 56,
   "metadata": {},
   "outputs": [
    {
     "name": "stdout",
     "output_type": "stream",
     "text": [
      "H\n",
      "e\n",
      "l\n",
      "l\n",
      "o\n",
      " \n",
      "w\n",
      "o\n",
      "r\n",
      "l\n",
      "d\n"
     ]
    }
   ],
   "source": [
    "#you can use _ if you do not want to mention any variable \n",
    "for _ in \"Hello world\":\n",
    "    print(_)\n",
    "    "
   ]
  },
  {
   "cell_type": "code",
   "execution_count": 48,
   "metadata": {},
   "outputs": [
    {
     "name": "stdout",
     "output_type": "stream",
     "text": [
      "hey hello\n",
      "Hi\n",
      "hey hello\n",
      "Hi\n",
      "hey hello\n",
      "Hi\n",
      "hey hello\n",
      "Hi\n",
      "hey hello\n",
      "Hi\n"
     ]
    }
   ],
   "source": [
    "for k in \"hello\":\n",
    "    print(\"hey {}\".format(\"hello\"))\n",
    "    print(\"Hi\")\n",
    "    #this prints every item in \"hello\" with the string \"Hi\" after every item "
   ]
  },
  {
   "cell_type": "code",
   "execution_count": 51,
   "metadata": {},
   "outputs": [
    {
     "name": "stdout",
     "output_type": "stream",
     "text": [
      "a\n",
      "b\n",
      "c\n",
      "d\n"
     ]
    }
   ],
   "source": [
    "#you can also iterate a list\n",
    "mylist = [\"a\",\"b\",\"c\",\"d\"]\n",
    "for letters in mylist:\n",
    "    print(letters)"
   ]
  },
  {
   "cell_type": "code",
   "execution_count": 57,
   "metadata": {},
   "outputs": [
    {
     "name": "stdout",
     "output_type": "stream",
     "text": [
      "the name benedictkole is too long\n",
      "kole is a short name\n",
      "ian is a short name\n",
      "the name lomuto is too long\n"
     ]
    }
   ],
   "source": [
    "#you can also  perform some quite 'complex' logical operations using the for loops and the if statements\n",
    "mynames = [\"benedictkole\",\"kole\",\"ian\",\"lomuto\"]\n",
    "for name in mynames:\n",
    "    if len(name) <= 4:\n",
    "        print(\"{} is a short name\".format(name))\n",
    "    else:\n",
    "        print(f\"the name {name} is too long\")"
   ]
  },
  {
   "cell_type": "code",
   "execution_count": 73,
   "metadata": {},
   "outputs": [
    {
     "name": "stdout",
     "output_type": "stream",
     "text": [
      "2\n",
      "10\n"
     ]
    }
   ],
   "source": [
    "#you can iterate tuples as well\n",
    "mynum = (1,5,3,2,10)\n",
    "for num in mynum:\n",
    "    if num%2 == 0: #checks if the number is even\n",
    "        print(num) #prints out the even numbers only\n",
    "    "
   ]
  },
  {
   "cell_type": "code",
   "execution_count": 75,
   "metadata": {},
   "outputs": [
    {
     "name": "stdout",
     "output_type": "stream",
     "text": [
      "0\n",
      "5 is an odd number\n",
      "2\n",
      "3 is an odd number\n",
      "10\n",
      "8\n",
      "7 is an odd number\n",
      "9 is an odd number\n"
     ]
    }
   ],
   "source": [
    "mynum = (0,5,2,3,10,8,7,9)\n",
    "for num in mynum:\n",
    "    if num%2 == 0: #checks if the number is even\n",
    "        print(num)\n",
    "    else:\n",
    "        print(f\"{num} is an odd number\")"
   ]
  },
  {
   "cell_type": "code",
   "execution_count": 76,
   "metadata": {},
   "outputs": [
    {
     "name": "stdout",
     "output_type": "stream",
     "text": [
      "apple\n",
      "mango\n",
      "shoes\n"
     ]
    }
   ],
   "source": [
    "# dictionary iterations are quite different\n",
    "myprices = {\"apple\":20,\"mango\":10,\"shoes\":400}\n",
    "for prices in myprices:\n",
    "    print(prices)"
   ]
  },
  {
   "cell_type": "markdown",
   "metadata": {},
   "source": [
    "### N/B:\n",
    "you notice that when you iterate through a dictionary,you iterate through the keys only. So how about if we want to iterate through the items themselves? To achieve that, we call the items using the .items() method"
   ]
  },
  {
   "cell_type": "code",
   "execution_count": 81,
   "metadata": {},
   "outputs": [
    {
     "name": "stdout",
     "output_type": "stream",
     "text": [
      "('apple', 20)\n",
      "('mango', 10)\n",
      "('shoes', 400)\n"
     ]
    }
   ],
   "source": [
    "# apply the .items() method to call the items in order to iterate the keys with their items\n",
    "myprices = {\"apple\":20,\"mango\":10,\"shoes\":400}\n",
    "for prices in myprices.items():\n",
    "    print(prices)"
   ]
  },
  {
   "cell_type": "code",
   "execution_count": 85,
   "metadata": {},
   "outputs": [
    {
     "name": "stdout",
     "output_type": "stream",
     "text": [
      "(1, 2, 3)\n",
      "('pen', 'pencil', 'rubber')\n",
      "('books', 'shoes', 'box')\n"
     ]
    }
   ],
   "source": [
    "# we can iterate a tuple inside a list\n",
    "my_school_items = [(1,2,3),(\"pen\",\"pencil\",\"rubber\"),(\"books\",\"shoes\",\"box\")]\n",
    "for _ in my_school_items:\n",
    "    print(_)\n",
    "    # this prints out every item in the list, which for our case here, are all tuples ."
   ]
  },
  {
   "cell_type": "code",
   "execution_count": 93,
   "metadata": {},
   "outputs": [
    {
     "name": "stdout",
     "output_type": "stream",
     "text": [
      "1\n",
      "pen\n",
      "books\n"
     ]
    }
   ],
   "source": [
    "# however, we can do tuple unpacking. To achieve that,make three variable names and separate them by commas\n",
    "my_school_items = [(1,2,3),(\"pen\",\"pencil\",\"rubber\"),(\"books\",\"shoes\",\"box\")]\n",
    "for a,b,c in my_school_items: # takes the first item in every tuple as a, the second item as b, and the third as c\n",
    "    print(a) # prints the first item in every tuple"
   ]
  },
  {
   "cell_type": "code",
   "execution_count": 87,
   "metadata": {},
   "outputs": [
    {
     "name": "stdout",
     "output_type": "stream",
     "text": [
      "2 3\n",
      "pencil rubber\n",
      "shoes box\n"
     ]
    }
   ],
   "source": [
    "my_school_items = [(1,2,3),(\"pen\",\"pencil\",\"rubber\"),(\"books\",\"shoes\",\"box\")]\n",
    "for a,b,c in my_school_items:\n",
    "    print(b,c)"
   ]
  },
  {
   "cell_type": "code",
   "execution_count": 100,
   "metadata": {},
   "outputs": [
    {
     "name": "stdout",
     "output_type": "stream",
     "text": [
      "apple 20\n",
      "mango 10\n",
      "shoes 400\n"
     ]
    }
   ],
   "source": [
    "# we can unpack a dictionary too\n",
    "myprices = {\"apple\":20,\"mango\":10,\"shoes\":400}\n",
    "for d,e in myprices.items():\n",
    "    print(d,e)"
   ]
  },
  {
   "cell_type": "code",
   "execution_count": 103,
   "metadata": {},
   "outputs": [
    {
     "name": "stdout",
     "output_type": "stream",
     "text": [
      "apple\n",
      "mango\n",
      "shoes\n"
     ]
    }
   ],
   "source": [
    "myprices = {\"apple\":20,\"mango\":10,\"shoes\":400}\n",
    "for d,e in myprices.items():\n",
    "    print(d)# prints out the keys only"
   ]
  },
  {
   "cell_type": "code",
   "execution_count": 104,
   "metadata": {},
   "outputs": [
    {
     "name": "stdout",
     "output_type": "stream",
     "text": [
      "20\n",
      "10\n",
      "400\n"
     ]
    }
   ],
   "source": [
    "myprices = {\"apple\":20,\"mango\":10,\"shoes\":400}\n",
    "for d,e in myprices.items():\n",
    "    print(e) # prints out the values only"
   ]
  },
  {
   "cell_type": "markdown",
   "metadata": {},
   "source": [
    "## Iterating through Dictionaries review"
   ]
  },
  {
   "cell_type": "code",
   "execution_count": 105,
   "metadata": {},
   "outputs": [
    {
     "name": "stdout",
     "output_type": "stream",
     "text": [
      "apple\n",
      "mango\n",
      "shoes\n"
     ]
    }
   ],
   "source": [
    "# iterating through a dictionary by default iterates through the keys only\n",
    "myprices = {\"apple\":20,\"mango\":10,\"shoes\":400}\n",
    "for prices in myprices:\n",
    "    print(prices) "
   ]
  },
  {
   "cell_type": "code",
   "execution_count": 106,
   "metadata": {},
   "outputs": [
    {
     "name": "stdout",
     "output_type": "stream",
     "text": [
      "('apple', 20)\n",
      "('mango', 10)\n",
      "('shoes', 400)\n"
     ]
    }
   ],
   "source": [
    "myprices = {\"apple\":20,\"mango\":10,\"shoes\":400}\n",
    "for prices in myprices.items():  # iterates through the items(keys and values)\n",
    "    print(prices) "
   ]
  },
  {
   "cell_type": "code",
   "execution_count": 107,
   "metadata": {},
   "outputs": [
    {
     "name": "stdout",
     "output_type": "stream",
     "text": [
      "20\n",
      "10\n",
      "400\n"
     ]
    }
   ],
   "source": [
    "myprices = {\"apple\":20,\"mango\":10,\"shoes\":400}\n",
    "for prices in myprices.values(): # iterates through the values only\n",
    "    print(prices) "
   ]
  },
  {
   "cell_type": "markdown",
   "metadata": {},
   "source": [
    "## While loops \n",
    "### N/B\n",
    " take note of the operators below"
   ]
  },
  {
   "cell_type": "raw",
   "metadata": {},
   "source": [
    "   Operator \tExample \tSame As\n",
    "    = \t        x = y \t    x = y\n",
    "    += \t        x += y   \tx = x + y\n",
    "    -= \t        x -= y  \tx = x - y\n",
    "    *=        \tx *= y  \tx = x * y\n",
    "    /=      \tx /= y  \tx = x / y\n",
    "    %=      \tx %= y  \tx = x % y"
   ]
  },
  {
   "cell_type": "code",
   "execution_count": 3,
   "metadata": {},
   "outputs": [
    {
     "name": "stdout",
     "output_type": "stream",
     "text": [
      "50\n",
      "250\n",
      "y is greater than 500\n"
     ]
    }
   ],
   "source": [
    "y = 50\n",
    "while y <= 500:\n",
    "    print(y)\n",
    "    y *= 5\n",
    "else:\n",
    "    print(\"y is greater than 500\")\n",
    "    \n",
    "        \n",
    "        "
   ]
  },
  {
   "cell_type": "code",
   "execution_count": 8,
   "metadata": {},
   "outputs": [
    {
     "name": "stdout",
     "output_type": "stream",
     "text": [
      "y is greater than 500\n"
     ]
    }
   ],
   "source": [
    "y = 1250\n",
    "while y <= 500:\n",
    "    print(y)\n",
    "    y *= 5\n",
    "else:\n",
    "    print(\"y is greater than 500\")\n",
    "    "
   ]
  },
  {
   "cell_type": "code",
   "execution_count": 7,
   "metadata": {},
   "outputs": [],
   "source": [
    "# I need the else statement to be executed if the condition is not true, \n",
    "# otherwise I will get nothing when I run the code \n",
    "y = 1250\n",
    "while y <= 500:\n",
    "    print(y)\n",
    "    y *= 5\n",
    "\n",
    "    "
   ]
  },
  {
   "cell_type": "markdown",
   "metadata": {},
   "source": [
    "## break,continue,pass\n",
    "\n",
    "We can use them to add functionalities for various cases.\n",
    "\n",
    "Break : breaks out of the current closest enclosing loop.\n",
    "Continue : goes to the top of the closest enclosing loop.\n",
    "Pass : does nothing at all\n"
   ]
  },
  {
   "cell_type": "code",
   "execution_count": 6,
   "metadata": {},
   "outputs": [
    {
     "name": "stdout",
     "output_type": "stream",
     "text": [
      "b\n",
      "e\n",
      "n\n",
      "e\n",
      "d\n",
      "i\n",
      "c\n",
      "t\n"
     ]
    }
   ],
   "source": [
    "name = \"benedict\"\n",
    "\n",
    "for letter in name:\n",
    "    print(letter)"
   ]
  },
  {
   "cell_type": "code",
   "execution_count": 7,
   "metadata": {},
   "outputs": [
    {
     "name": "stdout",
     "output_type": "stream",
     "text": [
      "l\n",
      "o\n",
      "m\n",
      "t\n",
      "o\n"
     ]
    }
   ],
   "source": [
    "for letter in \"lomuto\":\n",
    "    if letter == \"u\":\n",
    "        continue\n",
    "    print(letter)\n",
    "     "
   ]
  },
  {
   "cell_type": "code",
   "execution_count": 8,
   "metadata": {},
   "outputs": [
    {
     "name": "stdout",
     "output_type": "stream",
     "text": [
      "b\n",
      "e\n"
     ]
    }
   ],
   "source": [
    "for i in \"ben\":\n",
    "    if i == \"n\":\n",
    "        break\n",
    "    print(i)"
   ]
  },
  {
   "cell_type": "code",
   "execution_count": 9,
   "metadata": {},
   "outputs": [
    {
     "ename": "SyntaxError",
     "evalue": "unexpected EOF while parsing (<ipython-input-9-9285b11b0e64>, line 4)",
     "output_type": "error",
     "traceback": [
      "\u001b[1;36m  File \u001b[1;32m\"<ipython-input-9-9285b11b0e64>\"\u001b[1;36m, line \u001b[1;32m4\u001b[0m\n\u001b[1;33m    \u001b[0m\n\u001b[1;37m    ^\u001b[0m\n\u001b[1;31mSyntaxError\u001b[0m\u001b[1;31m:\u001b[0m unexpected EOF while parsing\n"
     ]
    }
   ],
   "source": [
    "name = \"ben\"\n",
    "\n",
    "for letter in name:\n",
    "    "
   ]
  },
  {
   "cell_type": "code",
   "execution_count": 10,
   "metadata": {},
   "outputs": [
    {
     "ename": "SyntaxError",
     "evalue": "unexpected EOF while parsing (<ipython-input-10-0bcfff6f20e0>, line 4)",
     "output_type": "error",
     "traceback": [
      "\u001b[1;36m  File \u001b[1;32m\"<ipython-input-10-0bcfff6f20e0>\"\u001b[1;36m, line \u001b[1;32m4\u001b[0m\n\u001b[1;33m    #end of my script\u001b[0m\n\u001b[1;37m                     ^\u001b[0m\n\u001b[1;31mSyntaxError\u001b[0m\u001b[1;31m:\u001b[0m unexpected EOF while parsing\n"
     ]
    }
   ],
   "source": [
    "name = \"ben\"\n",
    "\n",
    "for letter in name:\n",
    "    #end of my script"
   ]
  },
  {
   "cell_type": "code",
   "execution_count": 12,
   "metadata": {},
   "outputs": [],
   "source": [
    "# pass is important as it tells python to do nothing with the loop\n",
    "name = \"ben\"\n",
    "\n",
    "for letter in name:\n",
    "    pass"
   ]
  },
  {
   "cell_type": "markdown",
   "metadata": {},
   "source": [
    "## useful operators in Python"
   ]
  },
  {
   "cell_type": "code",
   "execution_count": 2,
   "metadata": {},
   "outputs": [
    {
     "name": "stdout",
     "output_type": "stream",
     "text": [
      "2\n",
      "3\n",
      "4\n",
      "5\n",
      "6\n",
      "7\n",
      "8\n",
      "9\n"
     ]
    }
   ],
   "source": [
    "x = 2\n",
    "\n",
    "for x in range(2,10):\n",
    "    print(x)"
   ]
  },
  {
   "cell_type": "code",
   "execution_count": 8,
   "metadata": {},
   "outputs": [
    {
     "name": "stdout",
     "output_type": "stream",
     "text": [
      "Jose is a long name.\n",
      "Ben is a short name.\n",
      "Ann is a short name.\n",
      "Mercy is a long name.\n"
     ]
    }
   ],
   "source": [
    "names = [\"jose\",\"ben\",\"ann\",\"mercy\"]\n",
    "\n",
    "for name in names:\n",
    "    if len(name) <= 3:\n",
    "        print(f\"{name.capitalize()} is a short name.\")\n",
    "    else:\n",
    "        print(\"{} is a long name.\".format(name.capitalize()))"
   ]
  },
  {
   "cell_type": "code",
   "execution_count": 9,
   "metadata": {},
   "outputs": [
    {
     "name": "stdout",
     "output_type": "stream",
     "text": [
      "1\n",
      "2\n",
      "3\n",
      "4\n",
      "5\n",
      "6\n",
      "7\n",
      "8\n",
      "9\n",
      "10\n",
      "11\n",
      "12\n",
      "13\n",
      "14\n",
      "15\n",
      "16\n",
      "17\n",
      "18\n",
      "19\n",
      "20\n",
      "21\n",
      "22\n",
      "23\n",
      "24\n",
      "25\n",
      "26\n",
      "27\n",
      "28\n",
      "29\n",
      "30\n",
      "31\n",
      "32\n",
      "33\n",
      "34\n",
      "35\n",
      "36\n",
      "37\n",
      "38\n",
      "39\n",
      "40\n",
      "41\n",
      "42\n",
      "43\n",
      "44\n",
      "45\n",
      "46\n",
      "47\n",
      "48\n",
      "49\n",
      "50\n",
      "51\n",
      "52\n",
      "53\n",
      "54\n",
      "55\n",
      "56\n",
      "57\n",
      "58\n",
      "59\n",
      "60\n",
      "61\n",
      "62\n",
      "63\n",
      "64\n",
      "65\n",
      "66\n",
      "67\n",
      "68\n",
      "69\n",
      "70\n",
      "71\n",
      "72\n",
      "73\n",
      "74\n",
      "75\n",
      "76\n",
      "77\n",
      "78\n",
      "79\n",
      "80\n",
      "81\n",
      "82\n",
      "83\n",
      "84\n",
      "85\n",
      "86\n",
      "87\n",
      "88\n",
      "89\n",
      "90\n",
      "91\n",
      "92\n",
      "93\n",
      "94\n",
      "95\n",
      "96\n",
      "97\n",
      "98\n",
      "99\n",
      "100\n"
     ]
    }
   ],
   "source": [
    "for num in range(1,101):\n",
    "    print(num)"
   ]
  },
  {
   "cell_type": "code",
   "execution_count": null,
   "metadata": {},
   "outputs": [],
   "source": []
  }
 ],
 "metadata": {
  "kernelspec": {
   "display_name": "Python 3",
   "language": "python",
   "name": "python3"
  },
  "language_info": {
   "codemirror_mode": {
    "name": "ipython",
    "version": 3
   },
   "file_extension": ".py",
   "mimetype": "text/x-python",
   "name": "python",
   "nbconvert_exporter": "python",
   "pygments_lexer": "ipython3",
   "version": "3.7.4"
  }
 },
 "nbformat": 4,
 "nbformat_minor": 2
}
